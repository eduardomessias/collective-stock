{
 "cells": [
  {
   "cell_type": "code",
   "execution_count": 1,
   "source": [
    "!pip install -r '../requirements.txt'"
   ],
   "outputs": [
    {
     "output_type": "stream",
     "name": "stdout",
     "text": [
      "Requirement already satisfied: ebaysdk in /Library/Frameworks/Python.framework/Versions/3.9/lib/python3.9/site-packages (from -r ../requirements.txt (line 1)) (2.2.0)\n",
      "Requirement already satisfied: python-dotenv in /Library/Frameworks/Python.framework/Versions/3.9/lib/python3.9/site-packages (from -r ../requirements.txt (line 2)) (0.19.0)\n",
      "Requirement already satisfied: requests in /Library/Frameworks/Python.framework/Versions/3.9/lib/python3.9/site-packages (from ebaysdk->-r ../requirements.txt (line 1)) (2.26.0)\n",
      "Requirement already satisfied: lxml in /Library/Frameworks/Python.framework/Versions/3.9/lib/python3.9/site-packages (from ebaysdk->-r ../requirements.txt (line 1)) (4.6.3)\n",
      "Requirement already satisfied: urllib3<1.27,>=1.21.1 in /Library/Frameworks/Python.framework/Versions/3.9/lib/python3.9/site-packages (from requests->ebaysdk->-r ../requirements.txt (line 1)) (1.26.6)\n",
      "Requirement already satisfied: charset-normalizer~=2.0.0 in /Library/Frameworks/Python.framework/Versions/3.9/lib/python3.9/site-packages (from requests->ebaysdk->-r ../requirements.txt (line 1)) (2.0.4)\n",
      "Requirement already satisfied: idna<4,>=2.5 in /Library/Frameworks/Python.framework/Versions/3.9/lib/python3.9/site-packages (from requests->ebaysdk->-r ../requirements.txt (line 1)) (3.2)\n",
      "Requirement already satisfied: certifi>=2017.4.17 in /Library/Frameworks/Python.framework/Versions/3.9/lib/python3.9/site-packages (from requests->ebaysdk->-r ../requirements.txt (line 1)) (2021.5.30)\n"
     ]
    }
   ],
   "metadata": {}
  },
  {
   "cell_type": "code",
   "execution_count": 2,
   "source": [
    "from http.server import BaseHTTPRequestHandler"
   ],
   "outputs": [],
   "metadata": {}
  },
  {
   "cell_type": "code",
   "execution_count": 3,
   "source": [
    "def get_results(payload):\n",
    "    from os import environ\n",
    "    from dotenv import load_dotenv\n",
    "    from ebaysdk.exception import ConnectionError\n",
    "    from ebaysdk.finding import Connection as Finding\n",
    "    try:\n",
    "        load_dotenv()\n",
    "        APP_ID = environ.get(\"EBAY_APPID\")\n",
    "        api = Finding(siteid='EBAY-GB',appid=APP_ID,config_file=None)\n",
    "        response = api.execute('findItemsAdvanced', payload)\n",
    "        return response.dict()\n",
    "    except ConnectionError as e:\n",
    "        print(str(e).encode())"
   ],
   "outputs": [],
   "metadata": {}
  },
  {
   "cell_type": "code",
   "execution_count": 4,
   "source": [
    "def get_total_pages(results):\n",
    "    if results:\n",
    "        return int(results.get('paginationOutput').get('totalPages'))\n",
    "    else:\n",
    "        return"
   ],
   "outputs": [],
   "metadata": {}
  },
  {
   "cell_type": "code",
   "execution_count": 5,
   "source": [
    "def search_ebay(payload):\n",
    "    import json\n",
    "    results = get_results(payload)\n",
    "    item_list = results['searchResult']['item']\n",
    "    return json.dumps(item_list)"
   ],
   "outputs": [],
   "metadata": {}
  },
  {
   "cell_type": "code",
   "execution_count": 43,
   "source": [
    "page_number = 2\n",
    "payload = {\n",
    "    'keywords': 'CGC',\n",
    "    'categoryId': ['259104'],\n",
    "    'itemFilter': [\n",
    "        {'name': 'StartTimeNewest'}\n",
    "    ],\n",
    "    'outputSelector': ['itemId','title'],\n",
    "    'paginationInput': {\n",
    "        'entriesPerPage': 1,\n",
    "        'pageNumber': page_number\n",
    "    }\n",
    "}"
   ],
   "outputs": [],
   "metadata": {}
  },
  {
   "cell_type": "code",
   "execution_count": 44,
   "source": [
    "json_items = search_ebay(payload)"
   ],
   "outputs": [],
   "metadata": {}
  },
  {
   "cell_type": "code",
   "execution_count": 52,
   "source": [
    "import json\n",
    "x = json.loads(json_items)\n",
    "x"
   ],
   "outputs": [
    {
     "output_type": "execute_result",
     "data": {
      "text/plain": [
       "[{'itemId': '185010986940',\n",
       "  'title': 'Batman #140 (1961) CGC Graded',\n",
       "  'globalId': 'EBAY-GB',\n",
       "  'primaryCategory': {'categoryId': '259104',\n",
       "   'categoryName': 'Comics & Graphic Novels'},\n",
       "  'galleryURL': 'https://thumbs1.ebaystatic.com/m/mfP5xx1L3Yy2Nv8hhqw6ALQ/140.jpg',\n",
       "  'viewItemURL': 'https://www.ebay.co.uk/itm/Batman-140-1961-CGC-Graded-/185010986940',\n",
       "  'autoPay': 'false',\n",
       "  'postalCode': 'EH128TD',\n",
       "  'location': 'Edinburgh,United Kingdom',\n",
       "  'country': 'GB',\n",
       "  'shippingInfo': {'shippingServiceCost': {'_currencyId': 'GBP',\n",
       "    'value': '3.6'},\n",
       "   'shippingType': 'Flat',\n",
       "   'shipToLocations': 'Worldwide'},\n",
       "  'sellingStatus': {'currentPrice': {'_currencyId': 'GBP', 'value': '79.99'},\n",
       "   'convertedCurrentPrice': {'_currencyId': 'GBP', 'value': '79.99'},\n",
       "   'bidCount': '0',\n",
       "   'sellingState': 'Active',\n",
       "   'timeLeft': 'P6DT21H37M55S'},\n",
       "  'listingInfo': {'bestOfferEnabled': 'true',\n",
       "   'buyItNowAvailable': 'false',\n",
       "   'startTime': '2021-08-22T09:33:01.000Z',\n",
       "   'endTime': '2021-08-29T09:33:01.000Z',\n",
       "   'listingType': 'Auction',\n",
       "   'gift': 'false',\n",
       "   'watchCount': '3'},\n",
       "  'condition': {'conditionId': '5000', 'conditionDisplayName': 'Good'},\n",
       "  'isMultiVariationListing': 'false',\n",
       "  'topRatedListing': 'false'}]"
      ]
     },
     "metadata": {},
     "execution_count": 52
    }
   ],
   "metadata": {}
  },
  {
   "cell_type": "code",
   "execution_count": 9,
   "source": [
    "path = \"https://collective-stock.vercel.app/api/ebay/comics?page_number=2\"\n",
    "\n",
    "try:\n",
    "    from urllib.parse import urlparse, splitquery, parse_qsl\n",
    "    query_string = dict(parse_qsl(urlparse(path).query))\n",
    "    page_number = int(query_string['page_number'])\n",
    "    print(page_number)\n",
    "except KeyError as e:\n",
    "    page_number = 1\n",
    "print(page_number)"
   ],
   "outputs": [
    {
     "output_type": "stream",
     "name": "stdout",
     "text": [
      "2\n"
     ]
    }
   ],
   "metadata": {}
  }
 ],
 "metadata": {
  "orig_nbformat": 4,
  "language_info": {
   "name": "python",
   "version": "3.9.6",
   "mimetype": "text/x-python",
   "codemirror_mode": {
    "name": "ipython",
    "version": 3
   },
   "pygments_lexer": "ipython3",
   "nbconvert_exporter": "python",
   "file_extension": ".py"
  },
  "kernelspec": {
   "name": "python3",
   "display_name": "Python 3.9.6 64-bit"
  },
  "interpreter": {
   "hash": "aee8b7b246df8f9039afb4144a1f6fd8d2ca17a180786b69acc140d282b71a49"
  }
 },
 "nbformat": 4,
 "nbformat_minor": 2
}